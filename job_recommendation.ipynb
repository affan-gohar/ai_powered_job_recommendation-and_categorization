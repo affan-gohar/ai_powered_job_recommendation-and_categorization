{
 "cells": [
  {
   "cell_type": "code",
   "execution_count": 1,
   "metadata": {},
   "outputs": [],
   "source": [
    "import pandas as pd"
   ]
  },
  {
   "cell_type": "code",
   "execution_count": 2,
   "metadata": {},
   "outputs": [
    {
     "data": {
      "text/html": [
       "<div>\n",
       "<style scoped>\n",
       "    .dataframe tbody tr th:only-of-type {\n",
       "        vertical-align: middle;\n",
       "    }\n",
       "\n",
       "    .dataframe tbody tr th {\n",
       "        vertical-align: top;\n",
       "    }\n",
       "\n",
       "    .dataframe thead th {\n",
       "        text-align: right;\n",
       "    }\n",
       "</style>\n",
       "<table border=\"1\" class=\"dataframe\">\n",
       "  <thead>\n",
       "    <tr style=\"text-align: right;\">\n",
       "      <th></th>\n",
       "      <th>Role</th>\n",
       "      <th>Features</th>\n",
       "    </tr>\n",
       "  </thead>\n",
       "  <tbody>\n",
       "    <tr>\n",
       "      <th>0</th>\n",
       "      <td>Social Media Manager</td>\n",
       "      <td>5 to 15 Years Digital Marketing Specialist M.T...</td>\n",
       "    </tr>\n",
       "    <tr>\n",
       "      <th>1</th>\n",
       "      <td>Frontend Web Developer</td>\n",
       "      <td>2 to 12 Years Web Developer BCA HTML, CSS, Jav...</td>\n",
       "    </tr>\n",
       "    <tr>\n",
       "      <th>2</th>\n",
       "      <td>Quality Control Manager</td>\n",
       "      <td>0 to 12 Years Operations Manager PhD Quality c...</td>\n",
       "    </tr>\n",
       "    <tr>\n",
       "      <th>3</th>\n",
       "      <td>Wireless Network Engineer</td>\n",
       "      <td>4 to 11 Years Network Engineer PhD Wireless ne...</td>\n",
       "    </tr>\n",
       "    <tr>\n",
       "      <th>4</th>\n",
       "      <td>Conference Manager</td>\n",
       "      <td>1 to 12 Years Event Manager MBA Event planning...</td>\n",
       "    </tr>\n",
       "    <tr>\n",
       "      <th>...</th>\n",
       "      <td>...</td>\n",
       "      <td>...</td>\n",
       "    </tr>\n",
       "    <tr>\n",
       "      <th>1615935</th>\n",
       "      <td>Mechanical Design Engineer</td>\n",
       "      <td>0 to 12 Years Mechanical Engineer B.Tech Mecha...</td>\n",
       "    </tr>\n",
       "    <tr>\n",
       "      <th>1615936</th>\n",
       "      <td>IT Director</td>\n",
       "      <td>2 to 14 Years IT Manager M.Tech Strategic IT p...</td>\n",
       "    </tr>\n",
       "    <tr>\n",
       "      <th>1615937</th>\n",
       "      <td>Mechanical Design Engineer</td>\n",
       "      <td>4 to 15 Years Mechanical Engineer BCA Mechanic...</td>\n",
       "    </tr>\n",
       "    <tr>\n",
       "      <th>1615938</th>\n",
       "      <td>Training Coordinator</td>\n",
       "      <td>5 to 15 Years HR Coordinator BCA Training prog...</td>\n",
       "    </tr>\n",
       "    <tr>\n",
       "      <th>1615939</th>\n",
       "      <td>Wedding Planner</td>\n",
       "      <td>1 to 11 Years Event Planner BBA Wedding planni...</td>\n",
       "    </tr>\n",
       "  </tbody>\n",
       "</table>\n",
       "<p>1615940 rows × 2 columns</p>\n",
       "</div>"
      ],
      "text/plain": [
       "                               Role  \\\n",
       "0              Social Media Manager   \n",
       "1            Frontend Web Developer   \n",
       "2           Quality Control Manager   \n",
       "3         Wireless Network Engineer   \n",
       "4                Conference Manager   \n",
       "...                             ...   \n",
       "1615935  Mechanical Design Engineer   \n",
       "1615936                 IT Director   \n",
       "1615937  Mechanical Design Engineer   \n",
       "1615938        Training Coordinator   \n",
       "1615939             Wedding Planner   \n",
       "\n",
       "                                                  Features  \n",
       "0        5 to 15 Years Digital Marketing Specialist M.T...  \n",
       "1        2 to 12 Years Web Developer BCA HTML, CSS, Jav...  \n",
       "2        0 to 12 Years Operations Manager PhD Quality c...  \n",
       "3        4 to 11 Years Network Engineer PhD Wireless ne...  \n",
       "4        1 to 12 Years Event Manager MBA Event planning...  \n",
       "...                                                    ...  \n",
       "1615935  0 to 12 Years Mechanical Engineer B.Tech Mecha...  \n",
       "1615936  2 to 14 Years IT Manager M.Tech Strategic IT p...  \n",
       "1615937  4 to 15 Years Mechanical Engineer BCA Mechanic...  \n",
       "1615938  5 to 15 Years HR Coordinator BCA Training prog...  \n",
       "1615939  1 to 11 Years Event Planner BBA Wedding planni...  \n",
       "\n",
       "[1615940 rows x 2 columns]"
      ]
     },
     "execution_count": 2,
     "metadata": {},
     "output_type": "execute_result"
    }
   ],
   "source": [
    "df = pd.read_csv(\"jobs_dataset_with_features.csv\")\n",
    "df\n"
   ]
  },
  {
   "cell_type": "code",
   "execution_count": 3,
   "metadata": {},
   "outputs": [
    {
     "data": {
      "text/plain": [
       "Index(['Role', 'Features'], dtype='object')"
      ]
     },
     "execution_count": 3,
     "metadata": {},
     "output_type": "execute_result"
    }
   ],
   "source": [
    "df.columns"
   ]
  },
  {
   "cell_type": "code",
   "execution_count": 4,
   "metadata": {},
   "outputs": [
    {
     "data": {
      "text/plain": [
       "Role\n",
       "Interaction Designer          20580\n",
       "Network Administrator         17470\n",
       "User Interface Designer       14036\n",
       "Social Media Manager          13945\n",
       "User Experience Designer      13935\n",
       "                              ...  \n",
       "Benefits Coordinator           6839\n",
       "Research Analyst               6830\n",
       "Administrative Coordinator     6803\n",
       "IT Support Specialist          6799\n",
       "UI/UX Designer                 6743\n",
       "Name: count, Length: 61, dtype: int64"
      ]
     },
     "execution_count": 4,
     "metadata": {},
     "output_type": "execute_result"
    }
   ],
   "source": [
    "min_count = 6500\n",
    "role_counts = df['Role'].value_counts()\n",
    "dropped_classes = role_counts[role_counts < min_count].index\n",
    "filtered_df = df[~df['Role'].isin(dropped_classes)].reset_index(drop=True)\n",
    "\n",
    "# Checking the updated role counts\n",
    "filtered_df['Role'].value_counts()"
   ]
  },
  {
   "cell_type": "code",
   "execution_count": 5,
   "metadata": {},
   "outputs": [
    {
     "data": {
      "text/plain": [
       "61"
      ]
     },
     "execution_count": 5,
     "metadata": {},
     "output_type": "execute_result"
    }
   ],
   "source": [
    "len(filtered_df['Role'].value_counts())\n"
   ]
  },
  {
   "cell_type": "code",
   "execution_count": 6,
   "metadata": {},
   "outputs": [],
   "source": [
    "df = filtered_df.sample(n=10000)\n"
   ]
  },
  {
   "cell_type": "code",
   "execution_count": 7,
   "metadata": {},
   "outputs": [
    {
     "data": {
      "text/html": [
       "<div>\n",
       "<style scoped>\n",
       "    .dataframe tbody tr th:only-of-type {\n",
       "        vertical-align: middle;\n",
       "    }\n",
       "\n",
       "    .dataframe tbody tr th {\n",
       "        vertical-align: top;\n",
       "    }\n",
       "\n",
       "    .dataframe thead th {\n",
       "        text-align: right;\n",
       "    }\n",
       "</style>\n",
       "<table border=\"1\" class=\"dataframe\">\n",
       "  <thead>\n",
       "    <tr style=\"text-align: right;\">\n",
       "      <th></th>\n",
       "      <th>Role</th>\n",
       "      <th>Features</th>\n",
       "    </tr>\n",
       "  </thead>\n",
       "  <tbody>\n",
       "    <tr>\n",
       "      <th>220334</th>\n",
       "      <td>Backend Developer</td>\n",
       "      <td>0 to 12 Years Software Engineer B.Com Proficie...</td>\n",
       "    </tr>\n",
       "    <tr>\n",
       "      <th>255545</th>\n",
       "      <td>Network Administrator</td>\n",
       "      <td>3 to 11 Years Network Engineer B.Tech Network ...</td>\n",
       "    </tr>\n",
       "    <tr>\n",
       "      <th>66775</th>\n",
       "      <td>Water Resources Engineer</td>\n",
       "      <td>0 to 13 Years Civil Engineer B.Tech Water reso...</td>\n",
       "    </tr>\n",
       "    <tr>\n",
       "      <th>239244</th>\n",
       "      <td>Market Research Analyst</td>\n",
       "      <td>5 to 12 Years Research Analyst BA Market resea...</td>\n",
       "    </tr>\n",
       "    <tr>\n",
       "      <th>408379</th>\n",
       "      <td>Procurement Manager</td>\n",
       "      <td>0 to 10 Years Procurement Specialist BBA Procu...</td>\n",
       "    </tr>\n",
       "  </tbody>\n",
       "</table>\n",
       "</div>"
      ],
      "text/plain": [
       "                            Role  \\\n",
       "220334         Backend Developer   \n",
       "255545     Network Administrator   \n",
       "66775   Water Resources Engineer   \n",
       "239244   Market Research Analyst   \n",
       "408379       Procurement Manager   \n",
       "\n",
       "                                                 Features  \n",
       "220334  0 to 12 Years Software Engineer B.Com Proficie...  \n",
       "255545  3 to 11 Years Network Engineer B.Tech Network ...  \n",
       "66775   0 to 13 Years Civil Engineer B.Tech Water reso...  \n",
       "239244  5 to 12 Years Research Analyst BA Market resea...  \n",
       "408379  0 to 10 Years Procurement Specialist BBA Procu...  "
      ]
     },
     "execution_count": 7,
     "metadata": {},
     "output_type": "execute_result"
    }
   ],
   "source": [
    "df.head()\n"
   ]
  },
  {
   "cell_type": "code",
   "execution_count": 8,
   "metadata": {},
   "outputs": [],
   "source": [
    "from sklearn.model_selection import train_test_split\n",
    "from sklearn.feature_extraction.text import TfidfVectorizer\n",
    "from sklearn.ensemble import RandomForestClassifier\n",
    "from sklearn.metrics import accuracy_score\n",
    "\n",
    "# Splitting the data into features (X) and target (y)\n",
    "X = df['Features']\n",
    "y = df['Role']\n",
    "\n",
    "# Train-test split\n",
    "X_train, X_test, y_train, y_test = train_test_split(X, y, test_size=0.2, random_state=42)\n",
    "\n",
    "# TF-IDF vectorization\n",
    "tfidf_vectorizer = TfidfVectorizer()\n",
    "X_train_tfidf = tfidf_vectorizer.fit_transform(X_train)\n",
    "X_test_tfidf = tfidf_vectorizer.transform(X_test)"
   ]
  },
  {
   "cell_type": "code",
   "execution_count": 9,
   "metadata": {},
   "outputs": [
    {
     "name": "stdout",
     "output_type": "stream",
     "text": [
      "Accuracy: 1.0\n"
     ]
    }
   ],
   "source": [
    "# RandomForestClassifier\n",
    "rf_classifier = RandomForestClassifier()\n",
    "rf_classifier.fit(X_train_tfidf, y_train)\n",
    "\n",
    "# Predictions\n",
    "y_pred = rf_classifier.predict(X_test_tfidf)\n",
    "\n",
    "# Accuracy\n",
    "accuracy = accuracy_score(y_test, y_pred)\n",
    "print(\"Accuracy:\", accuracy)"
   ]
  },
  {
   "cell_type": "code",
   "execution_count": 11,
   "metadata": {},
   "outputs": [
    {
     "name": "stderr",
     "output_type": "stream",
     "text": [
      "<>:8: SyntaxWarning: invalid escape sequence '\\]'\n",
      "<>:8: SyntaxWarning: invalid escape sequence '\\]'\n",
      "C:\\Users\\Affan\\AppData\\Local\\Temp\\ipykernel_3752\\258829178.py:8: SyntaxWarning: invalid escape sequence '\\]'\n",
      "  cleanText = re.sub(r'[%s]' % re.escape(\"\"\"!\"#$%&'()*+,-./:;<=>?@[\\]^_`{|}~\"\"\"), ' ', cleanText)\n"
     ]
    }
   ],
   "source": [
    "# Clean resume\n",
    "import re\n",
    "def cleanResume(txt):\n",
    "    cleanText = re.sub(r'http\\S+\\s', ' ', txt)\n",
    "    cleanText = re.sub(r'RT|cc', ' ', cleanText)\n",
    "    cleanText = re.sub(r'#\\S+\\s', ' ', cleanText)\n",
    "    cleanText = re.sub(r'@\\S+', '  ', cleanText)  \n",
    "    cleanText = re.sub(r'[%s]' % re.escape(\"\"\"!\"#$%&'()*+,-./:;<=>?@[\\]^_`{|}~\"\"\"), ' ', cleanText)\n",
    "    cleanText = re.sub(r'[^\\x00-\\x7f]', ' ', cleanText) \n",
    "    cleanText = re.sub(r'\\s+', ' ', cleanText)\n",
    "    return cleanText\n",
    "\n",
    "\n",
    "# Prediction and Category Name\n",
    "def job_recommendation(resume_text):\n",
    "    resume_text= cleanResume(resume_text)\n",
    "    resume_tfidf = tfidf_vectorizer.transform([resume_text])\n",
    "    predicted_category = rf_classifier.predict(resume_tfidf)[0]\n",
    "    return predicted_category"
   ]
  },
  {
   "cell_type": "code",
   "execution_count": 16,
   "metadata": {},
   "outputs": [
    {
     "name": "stdout",
     "output_type": "stream",
     "text": [
      "Predicted Category: Customer Success Manager\n"
     ]
    }
   ],
   "source": [
    "# Example Usage\n",
    "resume_file = \"\"\"John Doe\n",
    "Address: 123 Finance Avenue, Suite 101, Cityville, State 12345\n",
    "Phone: (123) 456-7890\n",
    "Email: john.doe@email.com\n",
    "LinkedIn: linkedin.com/in/johndoe\n",
    "\n",
    "Professional Summary\n",
    "Highly motivated and results-driven banking professional with over 5 years of experience in retail and corporate banking. Expertise in client relationship management, risk assessment, loan processing, and regulatory compliance. Strong problem-solving abilities with a focus on delivering exceptional customer service and driving operational efficiency. Seeking to leverage my financial expertise in a dynamic banking environment.\n",
    "\n",
    "Professional Experience\n",
    "Senior Banking Officer\n",
    "ABC Bank, Cityville, State\n",
    "June 2020 – Present\n",
    "\n",
    "Manage a portfolio of 200+ high-value retail and corporate clients, ensuring optimal client satisfaction and retention.\n",
    "Lead the loan processing team, approving loan applications worth over $10 million annually.\n",
    "Conduct financial analysis and creditworthiness assessments to determine risk exposure for loan applications.\n",
    "Provide consultative banking services to clients, offering personalized solutions for savings, investments, and credit products.\n",
    "Ensure compliance with banking regulations and oversee risk management processes to minimize financial exposure.\n",
    "Achieved 15% growth in client base and a 10% increase in loan disbursements within the first year.\n",
    "Banking Associate\n",
    "XYZ Bank, Townsville, State\n",
    "April 2017 – May 2020\n",
    "\n",
    "Assisted in day-to-day operations of the retail banking department, including customer inquiries, account management, and transaction processing.\n",
    "Processed loan applications, analyzed credit reports, and worked closely with customers to facilitate loan approvals.\n",
    "Developed and maintained strong relationships with clients, providing guidance on banking services and promoting financial products.\n",
    "Ensured compliance with anti-money laundering (AML) and Know Your Customer (KYC) regulations.\n",
    "Reduced processing times for loan applications by 20% through streamlining workflows.\n",
    "Education\n",
    "Master of Business Administration (MBA) in Finance\n",
    "University of Finance, Cityville, State\n",
    "Graduated: May 2017\n",
    "\n",
    "Bachelor of Science in Economics\n",
    "Cityville University, Cityville, State\n",
    "Graduated: May 2015\n",
    "\n",
    "Skills\n",
    "Financial Analysis and Risk Management\n",
    "Loan Processing and Credit Assessment\n",
    "Client Relationship Management\n",
    "Regulatory Compliance (AML, KYC)\n",
    "Sales of Financial Products (Mortgages, Investments, Credit Lines)\n",
    "Problem Solving and Decision-Making\n",
    "Microsoft Office Suite (Excel, PowerPoint, Word)\n",
    "Banking Software (Core Banking, Loan Management Systems)\n",
    "Certifications\n",
    "Certified Financial Services Auditor (CFSA) – Institute of Internal Auditors\n",
    "Anti-Money Laundering (AML) Certification – Association of Certified Financial Crime Specialists\n",
    "Achievements\n",
    "Received the “Employee of the Year” award at ABC Bank for outstanding performance in client management and loan portfolio growth (2022).\n",
    "Successfully led a project that reduced loan application turnaround times by 15%, enhancing customer satisfaction.\n",
    "Languages\n",
    "English (Fluent)\n",
    "Spanish (Conversational)\n",
    "References\n",
    "Available upon request.\n",
    "\n",
    "\"\"\"\n",
    "predicted_category = job_recommendation(resume_file)\n",
    "print(\"Predicted Category:\", predicted_category)"
   ]
  },
  {
   "cell_type": "code",
   "execution_count": 14,
   "metadata": {},
   "outputs": [
    {
     "name": "stdout",
     "output_type": "stream",
     "text": [
      "Predicted Category: Data Scientist\n"
     ]
    }
   ],
   "source": [
    "# Example Usage\n",
    "resume_file = \"\"\"AFFAN GOHAR \n",
    " \n",
    " Bahawalpur,Pakistan | Artificial Intellegence \n",
    "affangohar.fg@gmail.com  |  +923017206516 |  \n",
    "linkedin.com/in/affan-gohar/\n",
    " Skilled in building and deploying machine learning models with a strong emphasis on data preprocessing\n",
    " and visualization. Proficient in transforming raw data into actionable insights, optimizing algorithms, and\n",
    " integrating models into production environments. Experienced in end-to-end model development, from data\n",
    " cleaning  to model evaluation and deployment.\n",
    " SKILLS\n",
    " Python\n",
    " Data Cleaning\n",
    " AREA OF EXPERTISE\n",
    " Data Preprocessing\n",
    " Data Visualization\n",
    " Feature Engineering\n",
    " Model Deployment\n",
    " Data Science:\n",
    " Proficient in data analysis, statistical modeling, and data visualization.\n",
    " Experienced in developing predictive models and interpreting data insights.\n",
    " Machine Learning:\n",
    " Skilled in designing, training, and evaluating machine learning models.\n",
    " Knowledgeable in supervised and unsupervised learning techniques.\n",
    " Proficient in feature engineering and model optimization to enhance predictive accuracy.\n",
    " PROJECTS\n",
    " Survival Prediction on Titanic Dataset\n",
    " Conducted an analysis and built a machine learning model to predict passenger survival on the\n",
    " Titanic using the well-known Titanic dataset.\n",
    " The project involved thorough data cleaning, including handling missing values and encoding\n",
    " categorical variables, followed by  to enhance model performance. \n",
    "Diabetes Prediction using Machine Learning\n",
    " Designed and implemented a machine learning model to predict the onset of diabetes based on\n",
    " patient health metrics.\n",
    " The project involved extensive data cleaning,  and the application of\n",
    " classification algorithms\n",
    " Heart Disease Prediction using Machine Learning\n",
    " Developed a machine learning model to predict the likelihood of heart disease based on patient\n",
    " data.\n",
    " The project involved extensive data cleaning,  and the application of\n",
    " classification algorithms\n",
    " Movie Recommendation System Using Netflix Data\n",
    " Developed a movie recommendation system utilizing Netflix data to suggest personalized content to\n",
    " users. \n",
    "The project involved text analysis and feature extraction from movie descriptions, reviews, and\n",
    " metadata.\n",
    " House Price Prediction using Machine Learning\n",
    " Developed a comprehensive predictive model to estimate house prices using a variety of regression\n",
    " algorithms, including linear regression, decision trees, random forest, and gradient boosting.\n",
    "EDUCATION\n",
    " Bachelor of Science in Artificial Inteligence\n",
    " The Islamia University of Bahawalpur\n",
    " Intermediate in Computer Science (ICS)\n",
    " Punjab Group of Colleges\n",
    " Matriculation in Computer Science\n",
    " FG Abbas Public School\n",
    " PROFESSIONAL CERTIFICATIONS\n",
    " Feb 2024 -  Mar 2028\n",
    " May 2020 -  Jun 2023\n",
    " Apr 2018 - April  2020\n",
    " Python\n",
    " Issued by Kaggle\n",
    " Acquired hands-on experience in Python programming, focusing on practical coding skills and\n",
    " problem-solving techniques.\n",
    " Python for Data Science\n",
    " Issued by Codanics\n",
    " Gained proficiency in Python programming specifically tailored for data science, including data\n",
    " manipulation, analysis, and visualization techniques.\n",
    " Google Soft Skills Communication\n",
    " Issued by Google\n",
    " Completed modules on networking, effective communication, problem solving, critical thinking, and\n",
    " time management, enhancing overall professional interaction and personal efficiency.\n",
    " Introduction to AI for Youth\n",
    " Issued by Intel and The Commonwealth\n",
    " Completed a comprehensive program on artificial intelligence fundamentals, including machine\n",
    " learning concepts, AI applications, and ethical considerations.\n",
    " ADDITIONAL INFORMATION\n",
    " Libraries: Pandas, Numpy, Matplotlib, Seaborn, Sci-kit Learn\n",
    " Languages: English, Urdu\n",
    " REFERENCES ARE AVAILABLE ON REQUEST\n",
    "\"\"\"\n",
    "predicted_category = job_recommendation(resume_file)\n",
    "print(\"Predicted Category:\", predicted_category)"
   ]
  },
  {
   "cell_type": "code",
   "execution_count": 15,
   "metadata": {},
   "outputs": [],
   "source": [
    "import pickle\n",
    "pickle.dump(rf_classifier,open('rf_classifier_job_recommendation.pkl','wb'))\n",
    "pickle.dump(tfidf_vectorizer,open('tfidf_vectorizer_job_recommendation.pkl','wb'))"
   ]
  },
  {
   "cell_type": "code",
   "execution_count": null,
   "metadata": {},
   "outputs": [],
   "source": []
  }
 ],
 "metadata": {
  "kernelspec": {
   "display_name": "Python 3",
   "language": "python",
   "name": "python3"
  },
  "language_info": {
   "codemirror_mode": {
    "name": "ipython",
    "version": 3
   },
   "file_extension": ".py",
   "mimetype": "text/x-python",
   "name": "python",
   "nbconvert_exporter": "python",
   "pygments_lexer": "ipython3",
   "version": "3.12.5"
  }
 },
 "nbformat": 4,
 "nbformat_minor": 2
}
